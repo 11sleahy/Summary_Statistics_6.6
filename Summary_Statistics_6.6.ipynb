{
 "cells": [
  {
   "cell_type": "markdown",
   "id": "b834536c",
   "metadata": {},
   "source": [
    "## Import Necessary Packages\n",
    "#### Importing packages that exist natively in Jupyter Notebook environment"
   ]
  },
  {
   "cell_type": "code",
   "execution_count": 3,
   "id": "e870358f",
   "metadata": {},
   "outputs": [],
   "source": [
    "import pandas as pd\n",
    "import numpy as np\n",
    "import sqlalchemy as sql\n",
    "import matplotlib.pyplot as plt\n",
    "import seaborn as s \n",
    "from datetime import datetime,timedelta,date"
   ]
  },
  {
   "cell_type": "code",
   "execution_count": 416,
   "id": "7c42354d",
   "metadata": {},
   "outputs": [],
   "source": [
    "from dateutil.relativedelta import relativedelta"
   ]
  },
  {
   "cell_type": "code",
   "execution_count": 144,
   "id": "ece19fef",
   "metadata": {},
   "outputs": [],
   "source": [
    "from tabulate import tabulate"
   ]
  },
  {
   "cell_type": "markdown",
   "id": "66ade9a8",
   "metadata": {},
   "source": [
    "## Pip Install External Packages\n",
    "#### Install packages from requirements document within IDE"
   ]
  },
  {
   "cell_type": "code",
   "execution_count": 8,
   "id": "385b9fa9",
   "metadata": {},
   "outputs": [
    {
     "name": "stdout",
     "output_type": "stream",
     "text": [
      "Collecting psycopg2Note: you may need to restart the kernel to use updated packages.\n",
      "\n",
      "  Downloading psycopg2-2.9.6-cp39-cp39-win_amd64.whl (1.2 MB)\n",
      "     ---------------------------------------- 1.2/1.2 MB 8.3 MB/s eta 0:00:00\n",
      "Installing collected packages: psycopg2\n",
      "Successfully installed psycopg2-2.9.6\n"
     ]
    }
   ],
   "source": [
    "pip install psycopg2"
   ]
  },
  {
   "cell_type": "markdown",
   "id": "858f68be",
   "metadata": {},
   "source": [
    "## Import External Packages"
   ]
  },
  {
   "cell_type": "code",
   "execution_count": 10,
   "id": "fef8199f",
   "metadata": {},
   "outputs": [],
   "source": [
    "import psycopg2 as psy"
   ]
  },
  {
   "cell_type": "markdown",
   "id": "3de39502",
   "metadata": {},
   "source": [
    "## Credentials Dictionary\n",
    "#### Using personal credentials with password withheld, can use environmental variable for password"
   ]
  },
  {
   "cell_type": "code",
   "execution_count": 4,
   "id": "41727dbf",
   "metadata": {},
   "outputs": [],
   "source": [
    "cred = {'host':'dataplor-api.csmbeii1hyqa.us-east-1.rds.amazonaws.com',\n",
    "        'port':'5432',\n",
    "        'db':'dataplor_production',\n",
    "        'user':'simon',\n",
    "        'password':'84ca7ec8eed67783e394ed1494d9de3979d52b6717e8bb1f899ccba80af556cc2ee99ed13d3b43b9b12e44bfc763bde2ddc684d843d7eb9490ec06d44e8354d5'}\n"
   ]
  },
  {
   "cell_type": "markdown",
   "id": "cdce98c7",
   "metadata": {},
   "source": [
    "## Credentials Function"
   ]
  },
  {
   "cell_type": "code",
   "execution_count": 5,
   "id": "749643e7",
   "metadata": {},
   "outputs": [],
   "source": [
    "def enter_credentials(host,user,password,port,database):\n",
    "    url = f'postgresql://{user}:{password}@{host}:{port}/{database}'\n",
    "    output = sql.create_engine(url)\n",
    "    return output"
   ]
  },
  {
   "cell_type": "markdown",
   "id": "d3872d15",
   "metadata": {},
   "source": [
    "## Instantiation of Credential Function"
   ]
  },
  {
   "cell_type": "code",
   "execution_count": 11,
   "id": "a3ea127a",
   "metadata": {},
   "outputs": [],
   "source": [
    "get_output = enter_credentials(cred['host'],\n",
    "                               cred['user'],\n",
    "                               cred['password'],\n",
    "                               cred['port'],\n",
    "                               cred['db'])"
   ]
  },
  {
   "cell_type": "markdown",
   "id": "b1a0674b",
   "metadata": {},
   "source": [
    "## Query Relevant Fields\n",
    "#### Pulls in first 100,000 fields from places table as raw dataset"
   ]
  },
  {
   "cell_type": "code",
   "execution_count": 16,
   "id": "36622deb",
   "metadata": {},
   "outputs": [],
   "source": [
    "raw_POI = pd.read_sql_query(\n",
    "\"\"\"with subset as (select * from places limit 100000)\n",
    "select id,name,address,city,state,postal_code,neighborhood,country_code,chain_id,\n",
    "case when chain_id is not null then 1 else 0 end as chain_bin,created_at,updated_at,coordinates,\n",
    "business_category_id,external_ids ->> 'google_places_id' as google_places_id,\n",
    "data ->> 'first_opened' as open_date,data ->> 'open_status' as open_status,\n",
    "data ->> 'permanently_closed' as perm_closed,observation_dates ->> 'permanently_closed' as close_date\n",
    "from subset\"\"\",get_output)"
   ]
  },
  {
   "cell_type": "markdown",
   "id": "e120cf1d",
   "metadata": {},
   "source": [
    "#### Declare date variable that is day 1 of 12 months ago"
   ]
  },
  {
   "cell_type": "code",
   "execution_count": 453,
   "id": "92ac0acd",
   "metadata": {},
   "outputs": [],
   "source": [
    "dt = datetime.combine(datetime(date.today().year,date.today().month,1),datetime.min.time())-relativedelta(years=1)"
   ]
  },
  {
   "cell_type": "markdown",
   "id": "85d0a237",
   "metadata": {},
   "source": [
    "#### Dataframe of raw data from last 12 months"
   ]
  },
  {
   "cell_type": "code",
   "execution_count": 461,
   "id": "ecb11295",
   "metadata": {},
   "outputs": [],
   "source": [
    "raw_poi_12 = raw_POI[raw_POI['created_at']>=dt]"
   ]
  },
  {
   "cell_type": "markdown",
   "id": "ea9472f3",
   "metadata": {},
   "source": [
    "#### Dataframe of raw data from first observation date to 12 full months ago"
   ]
  },
  {
   "cell_type": "code",
   "execution_count": 463,
   "id": "210dcd90",
   "metadata": {},
   "outputs": [],
   "source": [
    "raw_poi_lt_12 = raw_POI[raw_POI['created_at']<dt]"
   ]
  },
  {
   "cell_type": "markdown",
   "id": "7380f621",
   "metadata": {},
   "source": [
    "#### Group Total POIs and Chain POIs by country"
   ]
  },
  {
   "cell_type": "code",
   "execution_count": 464,
   "id": "39b78ac5",
   "metadata": {},
   "outputs": [],
   "source": [
    "country_grouped = pd.DataFrame(raw_POI.groupby(['country_code'])['chain_bin'].agg(\n",
    "   ['count','sum'])).rename(columns={'count':'Total POIs','sum':'Chain POIs'})"
   ]
  },
  {
   "cell_type": "markdown",
   "id": "f25b206d",
   "metadata": {},
   "source": [
    "#### Distinct brands per country"
   ]
  },
  {
   "cell_type": "code",
   "execution_count": 465,
   "id": "87759e33",
   "metadata": {},
   "outputs": [],
   "source": [
    "distinct_brand = pd.DataFrame(raw_POI.groupby('country_code')['chain_id'].nunique()).rename(\n",
    "    columns={'chain_id':'Distinct Chains'})"
   ]
  },
  {
   "cell_type": "markdown",
   "id": "f9fbf15a",
   "metadata": {},
   "source": [
    "#### Add chain percentage to brand table"
   ]
  },
  {
   "cell_type": "code",
   "execution_count": 466,
   "id": "e34685a2",
   "metadata": {},
   "outputs": [],
   "source": [
    "country_grouped['chain_pct'] = country_grouped['Chain POIs']/country_grouped['Total POIs']"
   ]
  },
  {
   "cell_type": "markdown",
   "id": "d100e5ed",
   "metadata": {},
   "source": [
    "#### Add distinct chain count to group by country"
   ]
  },
  {
   "cell_type": "code",
   "execution_count": 467,
   "id": "261a1f18",
   "metadata": {},
   "outputs": [],
   "source": [
    "POI_and_Brand_Counts = country_grouped.merge(distinct_brand,on = 'country_code',how='left')"
   ]
  },
  {
   "cell_type": "markdown",
   "id": "165405ff",
   "metadata": {},
   "source": [
    "#### Format POI and Brand Count table "
   ]
  },
  {
   "cell_type": "code",
   "execution_count": 468,
   "id": "618d7b2a",
   "metadata": {},
   "outputs": [],
   "source": [
    "POI_and_Brand_Counts['Chain Percentage'] = round(round(POI_and_Brand_Counts['chain_pct'],3)*100,2).astype(str)+'%'\n",
    "POI_and_Brand_Counts_tab = POI_and_Brand_Counts.drop(columns=['chain_pct']).reset_index().rename(\n",
    "    columns={'country_code':'Country'})"
   ]
  },
  {
   "cell_type": "markdown",
   "id": "f3bd8b68",
   "metadata": {},
   "source": [
    "## Function for Previous Steps"
   ]
  },
  {
   "cell_type": "code",
   "execution_count": 469,
   "id": "0898690c",
   "metadata": {},
   "outputs": [],
   "source": [
    "def metrics_by_country(dt):\n",
    "    country_grouped = pd.DataFrame(dt.groupby(['country_code'])['chain_bin'].agg(\n",
    "    ['count','sum'])).rename(columns={'count':'Total POIs','sum':'Chain POIs'})\n",
    "    distinct_brand = pd.DataFrame(dt.groupby('country_code')['chain_id'].nunique()).rename(\n",
    "        columns={'chain_id':'Distinct Chains'})\n",
    "    country_grouped['chain_pct'] = country_grouped['Chain POIs']/country_grouped['Total POIs']\n",
    "    POI_and_Brand_Counts = country_grouped.merge(distinct_brand,on = 'country_code',how='left')\n",
    "    POI_and_Brand_Counts['Chain Percentage'] = round(round(POI_and_Brand_Counts['chain_pct'],3)*100,2).astype(str)+'%'\n",
    "    POI_and_Brand_Counts_tab = POI_and_Brand_Counts.drop(columns=['chain_pct']).reset_index().rename(\n",
    "    columns={'country_code':'Country'})\n",
    "    return POI_and_Brand_Counts_tab"
   ]
  },
  {
   "cell_type": "markdown",
   "id": "399f32ed",
   "metadata": {},
   "source": [
    "## Run for raw data and last 12 months data"
   ]
  },
  {
   "cell_type": "code",
   "execution_count": 470,
   "id": "f1c46532",
   "metadata": {},
   "outputs": [],
   "source": [
    "all_POIs = metrics_by_country(raw_POI)\n",
    "last_12 = metrics_by_country(raw_poi_12)\n",
    "before_12 = metrics_by_country(raw_poi_lt_12)"
   ]
  },
  {
   "cell_type": "markdown",
   "id": "c718a8bb",
   "metadata": {},
   "source": [
    "#### Function for top n countries"
   ]
  },
  {
   "cell_type": "code",
   "execution_count": 471,
   "id": "52b11741",
   "metadata": {},
   "outputs": [],
   "source": [
    "def top_countries(dt,n):\n",
    "    return dt.nlargest(n,'Total POIs')"
   ]
  },
  {
   "cell_type": "code",
   "execution_count": 472,
   "id": "2c9a8c39",
   "metadata": {},
   "outputs": [],
   "source": [
    "top_7 = top_countries(all_POIs,7)"
   ]
  },
  {
   "cell_type": "markdown",
   "id": "2595269f",
   "metadata": {},
   "source": [
    "#### Create \"Rest Of World\" category from omitted top n countries, calculate metrics, and format"
   ]
  },
  {
   "cell_type": "code",
   "execution_count": 473,
   "id": "2aae6b0d",
   "metadata": {},
   "outputs": [],
   "source": [
    "rest_of_world = all[~all['Country'].isin(top_n['Country'].unique())]\n",
    "rest_of_world = pd.DataFrame({'Country':['Rest of World'],'Total POIs':[np.sum(rest_of_world['Total POIs'])],'Chain POIs':\n",
    "                                                                        [np.sum(rest_of_world['Chain POIs'])],\n",
    "                                                                        'Distinct Chains':[np.sum(\n",
    "                                                                            rest_of_world['Distinct Chains'])]})\n",
    "rest_of_world['Chain Percentage'] = round(round(rest_of_world['Chain POIs']/\n",
    "                                                rest_of_world['Total POIs'],3)*100,2).astype(str)+'%'\n"
   ]
  },
  {
   "cell_type": "markdown",
   "id": "2d4f913a",
   "metadata": {},
   "source": [
    "#### Add rest of world category to top n group by country"
   ]
  },
  {
   "cell_type": "code",
   "execution_count": 474,
   "id": "c0da2022",
   "metadata": {},
   "outputs": [],
   "source": [
    "top_pois = pd.concat([top_7,rest_of_world])"
   ]
  },
  {
   "cell_type": "markdown",
   "id": "7790d706",
   "metadata": {},
   "source": [
    "#### Map countries to country code"
   ]
  },
  {
   "cell_type": "code",
   "execution_count": 475,
   "id": "d30eecb6",
   "metadata": {},
   "outputs": [],
   "source": [
    "top_pois_2 = top_pois.set_index('Country').rename(index={'in':'India','cn':'China','id':'Indoneisa','pl':'Poland','br':'Brazil','mx':'Mexico',\n",
    "                                     'us':'United States'})"
   ]
  },
  {
   "cell_type": "markdown",
   "id": "c486b421",
   "metadata": {},
   "source": [
    "#### Add month/year of POI collection and country code or rest of world indicator field "
   ]
  },
  {
   "cell_type": "code",
   "execution_count": 476,
   "id": "62a592e7",
   "metadata": {},
   "outputs": [
    {
     "name": "stderr",
     "output_type": "stream",
     "text": [
      "C:\\Users\\simle\\AppData\\Local\\Temp\\ipykernel_24444\\4226369495.py:1: SettingWithCopyWarning: \n",
      "A value is trying to be set on a copy of a slice from a DataFrame.\n",
      "Try using .loc[row_indexer,col_indexer] = value instead\n",
      "\n",
      "See the caveats in the documentation: https://pandas.pydata.org/pandas-docs/stable/user_guide/indexing.html#returning-a-view-versus-a-copy\n",
      "  raw_poi_12['created_at_month'] = raw_poi_12['created_at'].dt.to_period('M')\n",
      "C:\\Users\\simle\\AppData\\Local\\Temp\\ipykernel_24444\\4226369495.py:2: SettingWithCopyWarning: \n",
      "A value is trying to be set on a copy of a slice from a DataFrame.\n",
      "Try using .loc[row_indexer,col_indexer] = value instead\n",
      "\n",
      "See the caveats in the documentation: https://pandas.pydata.org/pandas-docs/stable/user_guide/indexing.html#returning-a-view-versus-a-copy\n",
      "  raw_poi_12['Country Code'] = np.where(raw_poi_12['country_code'].isin(top_n['Country']),\n"
     ]
    }
   ],
   "source": [
    "raw_poi_12['created_at_month'] = raw_poi_12['created_at'].dt.to_period('M')\n",
    "raw_poi_12['Country Code'] = np.where(raw_poi_12['country_code'].isin(top_n['Country']),\n",
    "                                      raw_poi_12['country_code'],'Rest of World')"
   ]
  },
  {
   "cell_type": "markdown",
   "id": "86393f52",
   "metadata": {},
   "source": [
    "#### Sum of new openings by month group by country"
   ]
  },
  {
   "cell_type": "code",
   "execution_count": 478,
   "id": "17ff9f5d",
   "metadata": {},
   "outputs": [],
   "source": [
    "POI_by_month = pd.DataFrame(pd.pivot_table(raw_poi_12,values = 'created_at', index=['created_at_month'], \n",
    "                                           columns = ['Country Code'],aggfunc= 'count').replace(np.nan,0)).reset_index()\n",
    "poi_2 = POI_by_month.set_index('created_at_month').cumsum(axis=0).reset_index()"
   ]
  },
  {
   "cell_type": "markdown",
   "id": "28e559c4",
   "metadata": {},
   "source": [
    "#### Group number of chain POIs collected by month/year"
   ]
  },
  {
   "cell_type": "code",
   "execution_count": 480,
   "id": "833d75ec",
   "metadata": {},
   "outputs": [],
   "source": [
    "chain_count_by_month = pd.DataFrame(raw_poi_12.groupby('created_at_month').chain_bin.sum().cumsum().reset_index()).rename(\n",
    "    columns={'chain_bin':'Chain Count'})"
   ]
  },
  {
   "cell_type": "markdown",
   "id": "93a2010a",
   "metadata": {},
   "source": [
    "#### Group chain count by month/year and country and format"
   ]
  },
  {
   "cell_type": "code",
   "execution_count": 483,
   "id": "5d5d44c9",
   "metadata": {},
   "outputs": [],
   "source": [
    "chain_POI_by_month = pd.DataFrame(pd.pivot_table(raw_poi_12[raw_poi_12['chain_bin']==1],\n",
    "                                                 values = 'created_at', index=['created_at_month'], \n",
    "                                           columns = ['Country Code'],aggfunc= 'count').replace(np.nan,0)).reset_index()\n",
    "cp2 = chain_POI_by_month.set_index('created_at_month')\n",
    "cp3 = cp2.cumsum(axis=0)\n",
    "cp4 = cp3.reset_index()"
   ]
  },
  {
   "cell_type": "markdown",
   "id": "375e1f31",
   "metadata": {},
   "source": [
    "#### Remove duplicate chain ids in order of descending occurence"
   ]
  },
  {
   "cell_type": "code",
   "execution_count": 503,
   "id": "56b3a77c",
   "metadata": {},
   "outputs": [],
   "source": [
    "distinct_chain = raw_POI[raw_POI['chain_id'].notnull()][['created_at','chain_id']]\n",
    "distinct_chain['created_at_month'] = distinct_chain['created_at'].dt.to_period('M')\n",
    "distinct_chain_filtered = distinct_chain.sort_values('created_at_month').drop_duplicates('chain_id',keep='last')\n",
    "distinct_chain_df = pd.DataFrame(pd.pivot_table(distinct_chain_filtered,values = 'created_at', index=['created_at_month'], \n",
    "                                           aggfunc= 'count').replace(np.nan,0)).reset_index()"
   ]
  },
  {
   "cell_type": "markdown",
   "id": "d557132f",
   "metadata": {},
   "source": [
    "#### Create month/year variable for comparison from dt"
   ]
  },
  {
   "cell_type": "code",
   "execution_count": 540,
   "id": "4c759b6c",
   "metadata": {},
   "outputs": [],
   "source": [
    "#print(type(dc3.iloc[1,0]))\n",
    "dt_month = pd.Timestamp(dt).to_period('M')"
   ]
  },
  {
   "cell_type": "markdown",
   "id": "bf527cad",
   "metadata": {},
   "source": [
    "#### Formatting"
   ]
  },
  {
   "cell_type": "code",
   "execution_count": 541,
   "id": "7358d47c",
   "metadata": {},
   "outputs": [],
   "source": [
    "dc2 = distinct_chain_df.set_index('created_at_month').cumsum(axis=0).reset_index()\n",
    "#dc3 = dc2.cumsum(axis=0).reset_index()\n",
    "dc3 = dc2[dc2['created_at_month']>=dt_month].rename(columns = {'created_at':'Chain POIs'})"
   ]
  },
  {
   "cell_type": "markdown",
   "id": "1026cbeb",
   "metadata": {},
   "source": [
    "#### Create freshness metric fields by assigning time since last update for each POI"
   ]
  },
  {
   "cell_type": "code",
   "execution_count": 542,
   "id": "23bbbab4",
   "metadata": {},
   "outputs": [
    {
     "name": "stderr",
     "output_type": "stream",
     "text": [
      "C:\\Users\\simle\\AppData\\Local\\Temp\\ipykernel_24444\\649112428.py:1: SettingWithCopyWarning: \n",
      "A value is trying to be set on a copy of a slice from a DataFrame.\n",
      "Try using .loc[row_indexer,col_indexer] = value instead\n",
      "\n",
      "See the caveats in the documentation: https://pandas.pydata.org/pandas-docs/stable/user_guide/indexing.html#returning-a-view-versus-a-copy\n",
      "  raw_poi_12['Less than 30 Days'] = np.where(raw_poi_12['updated_at'] > pd.to_datetime(date.today())-timedelta(days=30),1,0)\n",
      "C:\\Users\\simle\\AppData\\Local\\Temp\\ipykernel_24444\\649112428.py:2: SettingWithCopyWarning: \n",
      "A value is trying to be set on a copy of a slice from a DataFrame.\n",
      "Try using .loc[row_indexer,col_indexer] = value instead\n",
      "\n",
      "See the caveats in the documentation: https://pandas.pydata.org/pandas-docs/stable/user_guide/indexing.html#returning-a-view-versus-a-copy\n",
      "  raw_poi_12['Less than 60 Days'] = np.where((raw_poi_12['updated_at'] > pd.to_datetime(date.today())-timedelta(days=60)),1,0)\n",
      "C:\\Users\\simle\\AppData\\Local\\Temp\\ipykernel_24444\\649112428.py:3: SettingWithCopyWarning: \n",
      "A value is trying to be set on a copy of a slice from a DataFrame.\n",
      "Try using .loc[row_indexer,col_indexer] = value instead\n",
      "\n",
      "See the caveats in the documentation: https://pandas.pydata.org/pandas-docs/stable/user_guide/indexing.html#returning-a-view-versus-a-copy\n",
      "  raw_poi_12['Less than 90 Days'] = np.where((raw_poi_12['updated_at'] > pd.to_datetime(date.today())-timedelta(days=90)),1,0)\n"
     ]
    }
   ],
   "source": [
    "raw_poi_12['Less than 30 Days'] = np.where(raw_poi_12['updated_at'] > pd.to_datetime(date.today())-timedelta(days=30),1,0)\n",
    "raw_poi_12['Less than 60 Days'] = np.where((raw_poi_12['updated_at'] > pd.to_datetime(date.today())-timedelta(days=60)),1,0)\n",
    "raw_poi_12['Less than 90 Days'] = np.where((raw_poi_12['updated_at'] > pd.to_datetime(date.today())-timedelta(days=90)),1,0)\n",
    "freshness_df = pd.pivot_table(raw_poi_12,values=['id','chain_bin','Less than 30 Days','Less than 60 Days','Less than 90 Days'],\n",
    "                              index = ['Country Code'],aggfunc={'id':'count','chain_bin':np.sum,'Less than 30 Days':np.sum,\n",
    "                                                                'Less than 60 Days':np.sum,'Less than 90 Days':np.sum})\n",
    "freshness_df['Less than 30 Days'] = round(round(freshness_df['Less than 30 Days']/freshness_df['id'],3)\n",
    "                                          *100,2).astype(str)+'%'\n",
    "freshness_df['Less than 60 Days'] = round(round(freshness_df['Less than 60 Days']/freshness_df['id'],3)\n",
    "                                          *100,2).astype(str)+'%'\n",
    "freshness_df['Less than 90 Days'] = round(round(freshness_df['Less than 90 Days']/freshness_df['id'],3)\n",
    "                                          *100,2).astype(str)+'%'\n",
    "freshness_df = pd.DataFrame(freshness_df).rename(columns={'chain_bin':'Brand Count','id':'POI Count'})"
   ]
  },
  {
   "cell_type": "markdown",
   "id": "ed8bd81d",
   "metadata": {},
   "source": [
    "#### Group new POIs per month by country dataframe"
   ]
  },
  {
   "cell_type": "code",
   "execution_count": 543,
   "id": "5ea99ba0",
   "metadata": {},
   "outputs": [],
   "source": [
    "POI_by_month = pd.DataFrame(pd.pivot_table(raw_poi_12,values = 'created_at', index=['created_at_month'], \n",
    "                                           columns = ['Country Code'],aggfunc= 'count').replace(np.nan,0)).reset_index()"
   ]
  },
  {
   "cell_type": "markdown",
   "id": "a69d0711",
   "metadata": {},
   "source": [
    "#### Convert to cumulative POI count"
   ]
  },
  {
   "cell_type": "code",
   "execution_count": 544,
   "id": "637b95ed",
   "metadata": {},
   "outputs": [],
   "source": [
    "POI_open_closing = pd.DataFrame(pd.pivot_table(raw_poi_12,values = ['open_date','close_date'],index=['created_at_month'],\n",
    "                                               aggfunc='count')).reset_index()\n",
    "poc2 = POI_open_closing.set_index('created_at_month').cumsum(axis=0).rename(\n",
    "    columns = {'open_date':'Open Date','close_date':'Close Date'}).reset_index()\n",
    " "
   ]
  },
  {
   "cell_type": "markdown",
   "id": "bdbe7d4a",
   "metadata": {},
   "source": [
    "#### Group and sort POI count by business category"
   ]
  },
  {
   "cell_type": "code",
   "execution_count": 545,
   "id": "fd670e87",
   "metadata": {},
   "outputs": [],
   "source": [
    "POI_Business_Category = pd.DataFrame(pd.pivot_table(raw_POI,values='id',index='business_category_id',aggfunc='count')\n",
    "                                    ).rename(columns={'business_category_id':'Business Category','id':'POI Count'}\n",
    "                                            ).reset_index().sort_values(by=['POI Count'],ascending=False) \n"
   ]
  },
  {
   "cell_type": "markdown",
   "id": "c2d53d6f",
   "metadata": {},
   "source": [
    "#### Format freshness dataframe"
   ]
  },
  {
   "cell_type": "code",
   "execution_count": 547,
   "id": "718bc958",
   "metadata": {},
   "outputs": [],
   "source": [
    "freshness_df_2 = pd.pivot_table(raw_poi_12,values=['id','chain_bin','Less than 30 Days','Less than 60 Days','Less than 90 Days'],\n",
    "                              index = ['Country Code'],aggfunc={'id':'count','chain_bin':np.sum,'Less than 30 Days':np.sum,\n",
    "                                                                'Less than 60 Days':np.sum,'Less than 90 Days':np.sum})\n"
   ]
  },
  {
   "cell_type": "code",
   "execution_count": 549,
   "id": "c018cab1",
   "metadata": {},
   "outputs": [],
   "source": [
    "freshness_df_2['lt30'] = round(round(freshness_df_2['Less than 30 Days']/freshness_df_2['id'],3)\n",
    "                                          *100,2)"
   ]
  },
  {
   "cell_type": "markdown",
   "id": "1bb799fa",
   "metadata": {},
   "source": [
    "#### Add breakdown of 100% for freshness barchart"
   ]
  },
  {
   "cell_type": "code",
   "execution_count": 550,
   "id": "197359fa",
   "metadata": {},
   "outputs": [
    {
     "name": "stderr",
     "output_type": "stream",
     "text": [
      "C:\\Users\\simle\\AppData\\Local\\Temp\\ipykernel_24444\\3346831772.py:2: SettingWithCopyWarning: \n",
      "A value is trying to be set on a copy of a slice from a DataFrame.\n",
      "Try using .loc[row_indexer,col_indexer] = value instead\n",
      "\n",
      "See the caveats in the documentation: https://pandas.pydata.org/pandas-docs/stable/user_guide/indexing.html#returning-a-view-versus-a-copy\n",
      "  fdf3['pct'] = 100 - fdf3['lt30']\n"
     ]
    }
   ],
   "source": [
    "fdf3 = freshness_df_2[['lt30']]\n",
    "fdf3['pct'] = 100 - fdf3['lt30']\n",
    "fdf4 = fdf3.rename(columns = {'lt30':'0-30 Days','pct':'31-60 Days'}).reset_index()\n",
    "fdf5 = fdf4[fdf4['Country Code'] != 'Rest of World']"
   ]
  },
  {
   "cell_type": "code",
   "execution_count": 553,
   "id": "950e116b",
   "metadata": {},
   "outputs": [
    {
     "data": {
      "text/html": [
       "<div>\n",
       "<style scoped>\n",
       "    .dataframe tbody tr th:only-of-type {\n",
       "        vertical-align: middle;\n",
       "    }\n",
       "\n",
       "    .dataframe tbody tr th {\n",
       "        vertical-align: top;\n",
       "    }\n",
       "\n",
       "    .dataframe thead th {\n",
       "        text-align: right;\n",
       "    }\n",
       "</style>\n",
       "<table border=\"1\" class=\"dataframe\">\n",
       "  <thead>\n",
       "    <tr style=\"text-align: right;\">\n",
       "      <th></th>\n",
       "      <th>Business Category</th>\n",
       "      <th>POI Count</th>\n",
       "    </tr>\n",
       "  </thead>\n",
       "  <tbody>\n",
       "    <tr>\n",
       "      <th>2744</th>\n",
       "      <td>store</td>\n",
       "      <td>4801</td>\n",
       "    </tr>\n",
       "    <tr>\n",
       "      <th>2421</th>\n",
       "      <td>restaurant</td>\n",
       "      <td>2370</td>\n",
       "    </tr>\n",
       "    <tr>\n",
       "      <th>1389</th>\n",
       "      <td>hindu_temple</td>\n",
       "      <td>1720</td>\n",
       "    </tr>\n",
       "    <tr>\n",
       "      <th>605</th>\n",
       "      <td>clothing_store</td>\n",
       "      <td>1690</td>\n",
       "    </tr>\n",
       "    <tr>\n",
       "      <th>2496</th>\n",
       "      <td>school</td>\n",
       "      <td>1623</td>\n",
       "    </tr>\n",
       "    <tr>\n",
       "      <th>...</th>\n",
       "      <td>...</td>\n",
       "      <td>...</td>\n",
       "    </tr>\n",
       "    <tr>\n",
       "      <th>984</th>\n",
       "      <td>emergency_services</td>\n",
       "      <td>1</td>\n",
       "    </tr>\n",
       "    <tr>\n",
       "      <th>982</th>\n",
       "      <td>emergency_locksmith_service</td>\n",
       "      <td>1</td>\n",
       "    </tr>\n",
       "    <tr>\n",
       "      <th>2439</th>\n",
       "      <td>road_cycling</td>\n",
       "      <td>1</td>\n",
       "    </tr>\n",
       "    <tr>\n",
       "      <th>973</th>\n",
       "      <td>elevator_manufacturer</td>\n",
       "      <td>1</td>\n",
       "    </tr>\n",
       "    <tr>\n",
       "      <th>884</th>\n",
       "      <td>doula</td>\n",
       "      <td>1</td>\n",
       "    </tr>\n",
       "  </tbody>\n",
       "</table>\n",
       "<p>3190 rows × 2 columns</p>\n",
       "</div>"
      ],
      "text/plain": [
       "                Business Category  POI Count\n",
       "2744                        store       4801\n",
       "2421                   restaurant       2370\n",
       "1389                 hindu_temple       1720\n",
       "605                clothing_store       1690\n",
       "2496                       school       1623\n",
       "...                           ...        ...\n",
       "984            emergency_services          1\n",
       "982   emergency_locksmith_service          1\n",
       "2439                 road_cycling          1\n",
       "973         elevator_manufacturer          1\n",
       "884                         doula          1\n",
       "\n",
       "[3190 rows x 2 columns]"
      ]
     },
     "execution_count": 553,
     "metadata": {},
     "output_type": "execute_result"
    }
   ],
   "source": [
    "POI_Business_Category.rename(columns = {'business_category_id':'Business Category'})"
   ]
  },
  {
   "cell_type": "markdown",
   "id": "e70f8f09",
   "metadata": {},
   "source": [
    "# Summary Statistics Output"
   ]
  },
  {
   "cell_type": "markdown",
   "id": "a1c311df",
   "metadata": {},
   "source": [
    "## Counts from Latest Release"
   ]
  },
  {
   "cell_type": "code",
   "execution_count": 305,
   "id": "3cafc986",
   "metadata": {},
   "outputs": [
    {
     "name": "stdout",
     "output_type": "stream",
     "text": [
      "╒═══════════════╤══════════════╤══════════════╤═══════════════════╤════════════════════╕\n",
      "│ Country       │   Total POIs │   Chain POIs │   Distinct Chains │ Chain Percentage   │\n",
      "╞═══════════════╪══════════════╪══════════════╪═══════════════════╪════════════════════╡\n",
      "│ Rest of World │        37400 │          256 │               157 │ 0.7%               │\n",
      "├───────────────┼──────────────┼──────────────┼───────────────────┼────────────────────┤\n",
      "│ India         │        34247 │           22 │                19 │ 0.1%               │\n",
      "├───────────────┼──────────────┼──────────────┼───────────────────┼────────────────────┤\n",
      "│ China         │         8962 │            1 │                 1 │ 0.0%               │\n",
      "├───────────────┼──────────────┼──────────────┼───────────────────┼────────────────────┤\n",
      "│ Indoneisa     │         7178 │            3 │                 3 │ 0.0%               │\n",
      "├───────────────┼──────────────┼──────────────┼───────────────────┼────────────────────┤\n",
      "│ Poland        │         5297 │           17 │                 7 │ 0.3%               │\n",
      "├───────────────┼──────────────┼──────────────┼───────────────────┼────────────────────┤\n",
      "│ Brazil        │         4034 │           22 │                14 │ 0.5%               │\n",
      "├───────────────┼──────────────┼──────────────┼───────────────────┼────────────────────┤\n",
      "│ Mexico        │         2968 │           82 │                27 │ 2.8%               │\n",
      "├───────────────┼──────────────┼──────────────┼───────────────────┼────────────────────┤\n",
      "│ United States │         2863 │          194 │               126 │ 6.8%               │\n",
      "╘═══════════════╧══════════════╧══════════════╧═══════════════════╧════════════════════╛\n"
     ]
    }
   ],
   "source": [
    "print(tabulate(top_pois_2.sort_values(by=['Total POIs'],ascending = False),headers='keys',tablefmt='fancy_grid'))"
   ]
  },
  {
   "cell_type": "markdown",
   "id": "429dec02",
   "metadata": {},
   "source": [
    "## POI and Brand Counts - Top 30 Countries"
   ]
  },
  {
   "cell_type": "code",
   "execution_count": 309,
   "id": "29d53ec0",
   "metadata": {},
   "outputs": [
    {
     "name": "stdout",
     "output_type": "stream",
     "text": [
      "╒═══════════╤══════════════╤══════════════╤═══════════════════╤════════════════════╕\n",
      "│ Country   │   Total POIs │   Chain POIs │   Distinct Chains │ Chain Percentage   │\n",
      "╞═══════════╪══════════════╪══════════════╪═══════════════════╪════════════════════╡\n",
      "│ in        │        34247 │           22 │                19 │ 0.1%               │\n",
      "├───────────┼──────────────┼──────────────┼───────────────────┼────────────────────┤\n",
      "│ cn        │         8962 │            1 │                 1 │ 0.0%               │\n",
      "├───────────┼──────────────┼──────────────┼───────────────────┼────────────────────┤\n",
      "│ id        │         7178 │            3 │                 3 │ 0.0%               │\n",
      "├───────────┼──────────────┼──────────────┼───────────────────┼────────────────────┤\n",
      "│ pl        │         5297 │           17 │                 7 │ 0.3%               │\n",
      "├───────────┼──────────────┼──────────────┼───────────────────┼────────────────────┤\n",
      "│ br        │         4034 │           22 │                14 │ 0.5%               │\n",
      "├───────────┼──────────────┼──────────────┼───────────────────┼────────────────────┤\n",
      "│ mx        │         2968 │           82 │                27 │ 2.8%               │\n",
      "├───────────┼──────────────┼──────────────┼───────────────────┼────────────────────┤\n",
      "│ us        │         2863 │          194 │               126 │ 6.8%               │\n",
      "├───────────┼──────────────┼──────────────┼───────────────────┼────────────────────┤\n",
      "│ kr        │         2614 │            1 │                 1 │ 0.0%               │\n",
      "├───────────┼──────────────┼──────────────┼───────────────────┼────────────────────┤\n",
      "│ eg        │         2268 │           10 │                10 │ 0.4%               │\n",
      "├───────────┼──────────────┼──────────────┼───────────────────┼────────────────────┤\n",
      "│ jp        │         2175 │            8 │                 7 │ 0.4%               │\n",
      "├───────────┼──────────────┼──────────────┼───────────────────┼────────────────────┤\n",
      "│ fr        │         2034 │            0 │                 0 │ 0.0%               │\n",
      "├───────────┼──────────────┼──────────────┼───────────────────┼────────────────────┤\n",
      "│ es        │         1870 │            0 │                 0 │ 0.0%               │\n",
      "├───────────┼──────────────┼──────────────┼───────────────────┼────────────────────┤\n",
      "│ de        │         1631 │            4 │                 4 │ 0.2%               │\n",
      "├───────────┼──────────────┼──────────────┼───────────────────┼────────────────────┤\n",
      "│ ar        │         1460 │            3 │                 3 │ 0.2%               │\n",
      "├───────────┼──────────────┼──────────────┼───────────────────┼────────────────────┤\n",
      "│ ro        │         1423 │            0 │                 0 │ 0.0%               │\n",
      "├───────────┼──────────────┼──────────────┼───────────────────┼────────────────────┤\n",
      "│ gb        │         1389 │           31 │                23 │ 2.2%               │\n",
      "├───────────┼──────────────┼──────────────┼───────────────────┼────────────────────┤\n",
      "│ pt        │         1215 │           11 │                 8 │ 0.9%               │\n",
      "├───────────┼──────────────┼──────────────┼───────────────────┼────────────────────┤\n",
      "│ it        │         1037 │            0 │                 0 │ 0.0%               │\n",
      "├───────────┼──────────────┼──────────────┼───────────────────┼────────────────────┤\n",
      "│ my        │          999 │           13 │                 7 │ 1.3%               │\n",
      "├───────────┼──────────────┼──────────────┼───────────────────┼────────────────────┤\n",
      "│ pk        │          946 │            2 │                 2 │ 0.2%               │\n",
      "├───────────┼──────────────┼──────────────┼───────────────────┼────────────────────┤\n",
      "│ ru        │          799 │           15 │                 7 │ 1.9%               │\n",
      "├───────────┼──────────────┼──────────────┼───────────────────┼────────────────────┤\n",
      "│ tr        │          731 │            1 │                 1 │ 0.1%               │\n",
      "├───────────┼──────────────┼──────────────┼───────────────────┼────────────────────┤\n",
      "│ co        │          725 │           10 │                 7 │ 1.4%               │\n",
      "├───────────┼──────────────┼──────────────┼───────────────────┼────────────────────┤\n",
      "│ cz        │          719 │            0 │                 0 │ 0.0%               │\n",
      "├───────────┼──────────────┼──────────────┼───────────────────┼────────────────────┤\n",
      "│ vn        │          668 │            1 │                 1 │ 0.1%               │\n",
      "├───────────┼──────────────┼──────────────┼───────────────────┼────────────────────┤\n",
      "│ tw        │          640 │            2 │                 1 │ 0.3%               │\n",
      "├───────────┼──────────────┼──────────────┼───────────────────┼────────────────────┤\n",
      "│ za        │          627 │           10 │                 7 │ 1.6%               │\n",
      "├───────────┼──────────────┼──────────────┼───────────────────┼────────────────────┤\n",
      "│ hk        │          624 │           15 │                14 │ 2.4%               │\n",
      "├───────────┼──────────────┼──────────────┼───────────────────┼────────────────────┤\n",
      "│ cl        │          509 │            0 │                 0 │ 0.0%               │\n",
      "├───────────┼──────────────┼──────────────┼───────────────────┼────────────────────┤\n",
      "│ ph        │          500 │            0 │                 0 │ 0.0%               │\n",
      "╘═══════════╧══════════════╧══════════════╧═══════════════════╧════════════════════╛\n"
     ]
    }
   ],
   "source": [
    "print(tabulate(POI_and_Brand_Counts_tab.sort_values(by=['Total POIs'],ascending = False).iloc[:30,:],\n",
    "               headers='keys',tablefmt='fancy_grid',showindex=False))"
   ]
  },
  {
   "cell_type": "markdown",
   "id": "5dd93cea",
   "metadata": {},
   "source": [
    "## Counts from Last 12 Months"
   ]
  },
  {
   "cell_type": "code",
   "execution_count": 374,
   "id": "3637d5f2",
   "metadata": {},
   "outputs": [
    {
     "data": {
      "text/plain": [
       "<AxesSubplot:title={'center':'POI Count by Month'}, xlabel='Month', ylabel='Cumulative Opened POIs'>"
      ]
     },
     "execution_count": 374,
     "metadata": {},
     "output_type": "execute_result"
    },
    {
     "data": {
      "image/png": "[encoded data removed]",
      "text/plain": [
       "<Figure size 1000x500 with 1 Axes>"
      ]
     },
     "metadata": {},
     "output_type": "display_data"
    }
   ],
   "source": [
    "poi_2.plot(x='created_at_month',kind='bar',stacked=True,title = 'POI Count by Month',\n",
    "                  color = ['#ffa600','#ff7c43','#f95d6a','#d45087','#a05195','#665191','#2f4b7c','#003f5c'],\n",
    "           figsize = (10,5),xlabel = 'Month',ylabel = 'Cumulative Opened POIs',rot=45)"
   ]
  },
  {
   "cell_type": "markdown",
   "id": "53f92dfd",
   "metadata": {},
   "source": [
    "## Chain Counts from Last 12 Months"
   ]
  },
  {
   "cell_type": "code",
   "execution_count": 375,
   "id": "77f9e9e0",
   "metadata": {},
   "outputs": [
    {
     "data": {
      "text/plain": [
       "<AxesSubplot:title={'center':'Chain POIs by Month'}, xlabel='Month', ylabel='Cumulative Opened Chains'>"
      ]
     },
     "execution_count": 375,
     "metadata": {},
     "output_type": "execute_result"
    },
    {
     "data": {
      "image/png": "[encoded data removed]",
      "text/plain": [
       "<Figure size 1000x500 with 1 Axes>"
      ]
     },
     "metadata": {},
     "output_type": "display_data"
    }
   ],
   "source": [
    "cp4.plot(x='created_at_month',kind='bar',stacked=True,title = 'Chain POIs by Month',\n",
    "                  color = ['#ffa600','#ff7c43','#f95d6a','#d45087','#a05195'],\n",
    "           figsize = (10,5),xlabel = 'Month',ylabel = 'Cumulative Opened Chains',rot = 45)"
   ]
  },
  {
   "cell_type": "markdown",
   "id": "e2c6d857",
   "metadata": {},
   "source": [
    "## Distinct Brand Count Overall - Last 12 Months"
   ]
  },
  {
   "cell_type": "code",
   "execution_count": 391,
   "id": "ed73aabe",
   "metadata": {},
   "outputs": [
    {
     "data": {
      "text/plain": [
       "<matplotlib.legend.Legend at 0x1d28394a9a0>"
      ]
     },
     "execution_count": 391,
     "metadata": {},
     "output_type": "execute_result"
    },
    {
     "data": {
      "image/png": "[encoded data removed]",
      "text/plain": [
       "<Figure size 1000x400 with 1 Axes>"
      ]
     },
     "metadata": {},
     "output_type": "display_data"
    }
   ],
   "source": [
    "dc4.plot(x='created_at_month',kind='line',title = 'Distinct Chain POIs by Month',figsize = (10,4),\n",
    "         xlabel = 'Month',ylabel = 'Distinct Chain POI Count',ylim = (0,300),grid = True)\n",
    "plt.legend(bbox_to_anchor=(1, 1), loc=2, borderaxespad=0.)"
   ]
  },
  {
   "cell_type": "markdown",
   "id": "fd69b736",
   "metadata": {},
   "source": [
    "## Brand Freshness"
   ]
  },
  {
   "cell_type": "code",
   "execution_count": 383,
   "id": "f5f9c17c",
   "metadata": {},
   "outputs": [
    {
     "name": "stdout",
     "output_type": "stream",
     "text": [
      "╒════════════════╤═════════════════════╤═════════════════════╤═════════════════════╤═══════════════╤═════════════╕\n",
      "│ Country Code   │ Less than 30 Days   │ Less than 60 Days   │ Less than 90 Days   │   Brand Count │   POI Count │\n",
      "╞════════════════╪═════════════════════╪═════════════════════╪═════════════════════╪═══════════════╪═════════════╡\n",
      "│ Rest of World  │ 78.5%               │ 100.0%              │ 100.0%              │            43 │       18003 │\n",
      "├────────────────┼─────────────────────┼─────────────────────┼─────────────────────┼───────────────┼─────────────┤\n",
      "│ br             │ 66.0%               │ 100.0%              │ 100.0%              │            14 │        3628 │\n",
      "├────────────────┼─────────────────────┼─────────────────────┼─────────────────────┼───────────────┼─────────────┤\n",
      "│ cn             │ 100.0%              │ 100.0%              │ 100.0%              │             1 │        8962 │\n",
      "├────────────────┼─────────────────────┼─────────────────────┼─────────────────────┼───────────────┼─────────────┤\n",
      "│ es             │ 81.0%               │ 100.0%              │ 100.0%              │             0 │        1786 │\n",
      "├────────────────┼─────────────────────┼─────────────────────┼─────────────────────┼───────────────┼─────────────┤\n",
      "│ id             │ 70.8%               │ 100.0%              │ 100.0%              │             0 │        6646 │\n",
      "├────────────────┼─────────────────────┼─────────────────────┼─────────────────────┼───────────────┼─────────────┤\n",
      "│ in             │ 98.4%               │ 100.0%              │ 100.0%              │             1 │       25450 │\n",
      "├────────────────┼─────────────────────┼─────────────────────┼─────────────────────┼───────────────┼─────────────┤\n",
      "│ ro             │ 100.0%              │ 100.0%              │ 100.0%              │             0 │        1423 │\n",
      "├────────────────┼─────────────────────┼─────────────────────┼─────────────────────┼───────────────┼─────────────┤\n",
      "│ us             │ 93.1%               │ 100.0%              │ 100.0%              │           181 │        2805 │\n",
      "╘════════════════╧═════════════════════╧═════════════════════╧═════════════════════╧═══════════════╧═════════════╛\n"
     ]
    },
    {
     "data": {
      "text/plain": [
       "<matplotlib.legend.Legend at 0x1d28442caf0>"
      ]
     },
     "execution_count": 383,
     "metadata": {},
     "output_type": "execute_result"
    },
    {
     "data": {
      "image/png": "[encoded data removed]",
      "text/plain": [
       "<Figure size 1000x600 with 1 Axes>"
      ]
     },
     "metadata": {},
     "output_type": "display_data"
    }
   ],
   "source": [
    "print(tabulate(freshness_df,headers='keys',tablefmt='fancy_grid'))\n",
    "fdf5.plot(x = 'Country Code',kind='bar',stacked=True,ylabel = '% of POIs in Freshness Category',\n",
    "          title = 'Freshness Pecentage',color=['#a05195','#ffa600'],figsize = (10,6),fontsize = 14,rot=0)\n",
    "plt.legend(bbox_to_anchor=(1, 1), loc=2, borderaxespad=0.)"
   ]
  },
  {
   "cell_type": "markdown",
   "id": "9d256627",
   "metadata": {},
   "source": [
    "## POI Open and Closing Rates"
   ]
  },
  {
   "cell_type": "code",
   "execution_count": 389,
   "id": "de0af4d0",
   "metadata": {},
   "outputs": [
    {
     "data": {
      "text/plain": [
       "<AxesSubplot:title={'center':'POI Openings/Closing by Month'}, xlabel='Month', ylabel='Cumulative POIs'>"
      ]
     },
     "execution_count": 389,
     "metadata": {},
     "output_type": "execute_result"
    },
    {
     "data": {
      "image/png": "[encoded data removed]",
      "text/plain": [
       "<Figure size 1000x500 with 1 Axes>"
      ]
     },
     "metadata": {},
     "output_type": "display_data"
    }
   ],
   "source": [
    "poc2.plot(x='created_at_month',kind='line',title = 'POI Openings/Closing by Month',figsize = (10,5),xlabel = 'Month',\n",
    "          ylabel = 'Cumulative POIs')"
   ]
  },
  {
   "cell_type": "markdown",
   "id": "859ec6ba",
   "metadata": {},
   "source": [
    "## Category Statistics"
   ]
  },
  {
   "cell_type": "code",
   "execution_count": 378,
   "id": "b6fc91bb",
   "metadata": {},
   "outputs": [
    {
     "name": "stdout",
     "output_type": "stream",
     "text": [
      "╒═════════════════════╤═════════════╕\n",
      "│ Business Category   │   POI Count │\n",
      "╞═════════════════════╪═════════════╡\n",
      "│ store               │        4801 │\n",
      "├─────────────────────┼─────────────┤\n",
      "│ restaurant          │        2370 │\n",
      "├─────────────────────┼─────────────┤\n",
      "│ hindu_temple        │        1720 │\n",
      "├─────────────────────┼─────────────┤\n",
      "│ clothing_store      │        1690 │\n",
      "├─────────────────────┼─────────────┤\n",
      "│ school              │        1623 │\n",
      "├─────────────────────┼─────────────┤\n",
      "│ grocery_store       │        1396 │\n",
      "├─────────────────────┼─────────────┤\n",
      "│ corporate_office    │        1390 │\n",
      "├─────────────────────┼─────────────┤\n",
      "│ apartment_building  │        1210 │\n",
      "├─────────────────────┼─────────────┤\n",
      "│ hotel               │        1032 │\n",
      "├─────────────────────┼─────────────┤\n",
      "│ business_center     │        1030 │\n",
      "╘═════════════════════╧═════════════╛\n"
     ]
    }
   ],
   "source": [
    "BC2 = POI_Business_Category.rename(columns = {'business_category_id':'Business Category'})\n",
    "print(tabulate(BC2.iloc[:10,:],headers = 'keys',tablefmt = 'fancy_grid',showindex = False))\n",
    "#print(tabulate(freshness_df,headers='keys',tablefmt='fancy_grid'))"
   ]
  }
 ],
 "metadata": {
  "kernelspec": {
   "display_name": "Python 3 (ipykernel)",
   "language": "python",
   "name": "python3"
  },
  "language_info": {
   "codemirror_mode": {
    "name": "ipython",
    "version": 3
   },
   "file_extension": ".py",
   "mimetype": "text/x-python",
   "name": "python",
   "nbconvert_exporter": "python",
   "pygments_lexer": "ipython3",
   "version": "3.9.13"
  }
 },
 "nbformat": 4,
 "nbformat_minor": 5
}
